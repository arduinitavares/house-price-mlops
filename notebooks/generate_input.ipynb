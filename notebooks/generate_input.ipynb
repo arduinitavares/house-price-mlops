{
 "cells": [
  {
   "cell_type": "code",
   "execution_count": 2,
   "id": "64008c99",
   "metadata": {},
   "outputs": [],
   "source": [
    "import json\n",
    "\n",
    "with open(\"data/sample/sample_input.json\") as f:\n",
    "    data = json.load(f)\n",
    "\n",
    "for entry in data[\"data\"]:\n",
    "    for key, value in entry.items():\n",
    "        if isinstance(value, int):\n",
    "            entry[key] = float(value)\n",
    "\n",
    "with open(\"data/sample/sample_input.json\", \"w\") as f:\n",
    "    json.dump(data, f, indent=2)"
   ]
  },
  {
   "cell_type": "code",
   "execution_count": null,
   "id": "2a2134a4",
   "metadata": {},
   "outputs": [],
   "source": []
  }
 ],
 "metadata": {
  "kernelspec": {
   "display_name": ".venv",
   "language": "python",
   "name": "python3"
  },
  "language_info": {
   "codemirror_mode": {
    "name": "ipython",
    "version": 3
   },
   "file_extension": ".py",
   "mimetype": "text/x-python",
   "name": "python",
   "nbconvert_exporter": "python",
   "pygments_lexer": "ipython3",
   "version": "3.10.11"
  }
 },
 "nbformat": 4,
 "nbformat_minor": 5
}

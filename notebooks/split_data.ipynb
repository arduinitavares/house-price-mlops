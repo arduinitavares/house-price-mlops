{
 "cells": [
  {
   "cell_type": "code",
   "execution_count": null,
   "id": "f886556e",
   "metadata": {},
   "outputs": [
    {
     "name": "stdout",
     "output_type": "stream",
     "text": [
      "📦 Dados carregados: (2930, 82)\n",
      "✅ Treinamento: (2344, 82), Teste: (586, 82)\n",
      "💾 Arquivos salvos em:\n",
      " - data/processed/train_data.csv\n",
      " - data/processed/test_data.csv\n"
     ]
    }
   ],
   "source": [
    "# Cell: Split AmesHousing.csv into train and test sets\n",
    "\n",
    "import pandas as pd\n",
    "from sklearn.model_selection import train_test_split\n",
    "import os\n",
    "\n",
    "# Paths\n",
    "raw_data_path = \"data/raw/AmesHousing.csv\"\n",
    "train_data_path = \"data/processed/train_data.csv\"\n",
    "test_data_path = \"data/processed/test_data.csv\"\n",
    "\n",
    "# Ensure output directory exists\n",
    "os.makedirs(\"data/processed\", exist_ok=True)\n",
    "\n",
    "# Load the dataset\n",
    "df = pd.read_csv(raw_data_path)\n",
    "print(f\"📦 Dados carregados: {df.shape}\")\n",
    "\n",
    "# Split the data (stratify not used here due to regression problem)\n",
    "train_df, test_df = train_test_split(df, test_size=0.2, random_state=42)\n",
    "print(f\"✅ Treinamento: {train_df.shape}, Teste: {test_df.shape}\")\n",
    "\n",
    "# Save to processed data directory\n",
    "train_df.to_csv(train_data_path, index=False)\n",
    "test_df.to_csv(test_data_path, index=False)\n",
    "print(f\"💾 Arquivos salvos em:\\n - {train_data_path}\\n - {test_data_path}\")"
   ]
  }
 ],
 "metadata": {
  "kernelspec": {
   "display_name": ".venv",
   "language": "python",
   "name": "python3"
  },
  "language_info": {
   "codemirror_mode": {
    "name": "ipython",
    "version": 3
   },
   "file_extension": ".py",
   "mimetype": "text/x-python",
   "name": "python",
   "nbconvert_exporter": "python",
   "pygments_lexer": "ipython3",
   "version": "3.10.11"
  }
 },
 "nbformat": 4,
 "nbformat_minor": 5
}
